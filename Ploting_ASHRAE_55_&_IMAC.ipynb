{
  "nbformat": 4,
  "nbformat_minor": 0,
  "metadata": {
    "colab": {
      "provenance": []
    },
    "kernelspec": {
      "name": "python3",
      "display_name": "Python 3"
    },
    "language_info": {
      "name": "python"
    }
  },
  "cells": [
    {
      "cell_type": "code",
      "source": [
        "pip install pythermalcomfort"
      ],
      "metadata": {
        "colab": {
          "base_uri": "https://localhost:8080/"
        },
        "id": "1AwxcyLg11_f",
        "outputId": "271eda4b-d160-4132-94b4-98efb7f06911"
      },
      "execution_count": 2,
      "outputs": [
        {
          "output_type": "stream",
          "name": "stdout",
          "text": [
            "Looking in indexes: https://pypi.org/simple, https://us-python.pkg.dev/colab-wheels/public/simple/\n",
            "Collecting pythermalcomfort\n",
            "  Downloading pythermalcomfort-2.7.0-py2.py3-none-any.whl (52 kB)\n",
            "\u001b[2K     \u001b[90m━━━━━━━━━━━━━━━━━━━━━━━━━━━━━━━━━━━━━━━━\u001b[0m \u001b[32m52.3/52.3 kB\u001b[0m \u001b[31m2.9 MB/s\u001b[0m eta \u001b[36m0:00:00\u001b[0m\n",
            "\u001b[?25hRequirement already satisfied: numba in /usr/local/lib/python3.9/dist-packages (from pythermalcomfort) (0.56.4)\n",
            "Collecting jos3\n",
            "  Downloading jos3-0.4.0-py3-none-any.whl (27 kB)\n",
            "Requirement already satisfied: numpy in /usr/local/lib/python3.9/dist-packages (from pythermalcomfort) (1.22.4)\n",
            "Requirement already satisfied: scipy in /usr/local/lib/python3.9/dist-packages (from pythermalcomfort) (1.10.1)\n",
            "Requirement already satisfied: llvmlite<0.40,>=0.39.0dev0 in /usr/local/lib/python3.9/dist-packages (from numba->pythermalcomfort) (0.39.1)\n",
            "Requirement already satisfied: setuptools in /usr/local/lib/python3.9/dist-packages (from numba->pythermalcomfort) (67.6.1)\n",
            "Installing collected packages: jos3, pythermalcomfort\n",
            "Successfully installed jos3-0.4.0 pythermalcomfort-2.7.0\n"
          ]
        }
      ]
    },
    {
      "cell_type": "code",
      "execution_count": 3,
      "metadata": {
        "id": "wZqr52sGcZqk"
      },
      "outputs": [],
      "source": [
        "# IMPORTING THE LIBERARIES\n",
        "import pandas as pd\n",
        "import numpy as np\n",
        "import matplotlib.pyplot as plt\n"
      ]
    },
    {
      "cell_type": "code",
      "source": [
        "# Thermal comfort equation by IMAC for naturally ventilated buildings \n",
        "def imac_nv(t_rmt, t_op_in):\n",
        "  tn_nv =[0]*8760\n",
        "  t_comf90up =[0]*8760\n",
        "  t_comf80up =[0]*8760\n",
        "  t_comf90low =[0]*8760\n",
        "  t_comf80low =[0]*8760\n",
        "  upper90 = 2.4\n",
        "  lower90 = -2.4\n",
        "  upper80 = 4.1\n",
        "  lower80 = -4.1\n",
        "  outside_range_hour=0\n",
        "  acceptable_90 = 0\n",
        "  acceptable_80 = 0\n",
        "  unacceptable = 0\n",
        "\n",
        "  for i in range(0,8760):\n",
        "    if(t_rmt[i]<31 and t_rmt[i]>12.5):\n",
        "      tn_nv[i] = 0.54*t_rmt[i] + 12.83\n",
        "      #t_comf90up[i]= t_comf[i]+upper90\n",
        "      #t_comf90low[i] = t_comf[i]+lower90\n",
        "      t_comf80up[i] = t_comf[i]+upper80\n",
        "      t_comf80low[i] = t_comf[i]+lower80\n",
        "    else:\n",
        "      outside_range_hour = +1\n",
        "  for i in range(0,8760):\n",
        "    if(t_op_in[i] in range(t_comf90up[i],t_comf90low[i])):\n",
        "      acceptable_90 = +1\n",
        "    elif(t_op_in[i] in range(t_comf80up[i],t_comf80low[i])):\n",
        "      acceptable_80 = +1\n",
        "    else:\n",
        "      unacceptable = +1\n",
        "  return (t_comf90low, t_comf90up, t_comf80low, t_comf80up, outside_range_hour, acceptable_90, acceptable_80)\n",
        "\n"
      ],
      "metadata": {
        "id": "mg3CFLAScw9U"
      },
      "execution_count": 4,
      "outputs": []
    },
    {
      "cell_type": "code",
      "source": [
        "# Thermal comfort equation by IMAC for Free Running/ Mixed Mode buildings \n",
        "def imac_mm(t_out, t_op_in):\n",
        "  tn_imac =[0]*8760\n",
        "  t_comf90up =[0]*8760\n",
        "  t_comf80up =[0]*8760\n",
        "  t_comf90low =[0]*8760\n",
        "  t_comf80low =[0]*8760\n",
        "  upper90 = 3.5\n",
        "  lower90 = -3.5\n",
        "  upper80 = 5.9\n",
        "  lower80 = -5.9\n",
        "  outside_range_hour=0\n",
        "  acceptable_90 = 0\n",
        "  acceptable_80 = 0\n",
        "  unacceptable = 0\n",
        "  \n",
        "  for i in range(0,8760):\n",
        "    if(t_rmt[i]<38.5 and t_rmt[i]>13):\n",
        "      tn_imac[i] = 0.28*t_rmt[i] + 17.87\n",
        "      t_comf90up[i]= tn_imac[i]+upper90\n",
        "      t_comf90low[i] = tn_imac[i]+lower90\n",
        "      t_comf80up[i] = tn_imac[i]+upper80\n",
        "      t_comf80low[i] = tn_imac[i]+lower80\n",
        "    else:\n",
        "      outside_range_hour = +1\n",
        "  for i in range(0,8760):\n",
        "    if(t_op_in[i] in range(t_comf90up[i],t_comf90low[i])):\n",
        "      acceptable_90 = +1\n",
        "    elif(t_op_in[i] in range(t_comf80up[i],t_comf80low[i])):\n",
        "      acceptable_80 = +1\n",
        "    else:\n",
        "      unacceptable = +1\n",
        "  return (t_comf90low, t_comf90up, t_comf80low, t_comf80up, outside_range_hour, acceptable_90, acceptable_80)"
      ],
      "metadata": {
        "id": "5LKT8qxI9gQM"
      },
      "execution_count": 5,
      "outputs": []
    },
    {
      "cell_type": "code",
      "source": [
        "# Reading the input data file and storing in ppandas datafrom\n",
        "\n",
        "dataset = pd.read_csv('Optimized_window+natural.csv')\n",
        "print(dataset.head())\n",
        "t_opi = dataset.iloc[:,4].values # operative indoor temp\n",
        "hour = dataset.iloc[:,0].values \n",
        "dbt_out = dataset.iloc[:,1].values\n",
        "dbt_in = dataset.iloc[:,3].values \n",
        "t_mrt = dataset.iloc[:,2].values  # mean radiant temp\n",
        "t_rmt = dataset.iloc[:,5].values\n",
        "vel = dataset.iloc[:,6].values "
      ],
      "metadata": {
        "id": "9wxQ6UPA-ZQQ",
        "colab": {
          "base_uri": "https://localhost:8080/"
        },
        "outputId": "af7bb947-e720-4903-dfe8-c4facb39ae44"
      },
      "execution_count": 9,
      "outputs": [
        {
          "output_type": "stream",
          "name": "stdout",
          "text": [
            "   Hours  DBT_outdoor      MRT  DBT_indoor  Operative_temp  RMT_outdoor  \\\n",
            "0      1      14.3333  20.2862     20.4310         20.3586      19.8778   \n",
            "1      2      14.3000  19.6195     19.2312         19.4253      19.8778   \n",
            "2      3      13.2750  19.4890     20.1218         19.8054      19.8778   \n",
            "3      4      12.5500  19.3131     19.8955         19.6043      19.8778   \n",
            "4      5      12.0667  19.0839     19.6291         19.3565      19.8778   \n",
            "\n",
            "   velocity  \n",
            "0       0.1  \n",
            "1       0.1  \n",
            "2       0.1  \n",
            "3       0.1  \n",
            "4       0.1  \n"
          ]
        }
      ]
    },
    {
      "cell_type": "code",
      "source": [
        "# generating response for ploting\n",
        "nv_upper90 = 2.4\n",
        "nv_lower90 = -2.4\n",
        "nv_upper80 = 4.1\n",
        "nv_lower80 = -4.1\n",
        "x = np.arange(min(t_mout), max(t_mout),0.01)\n",
        "\n",
        "# calculating neutral temperature inside natturally ventillated buildings according to imac\n",
        "\n",
        "tn_nv = 0.54*x + 12.83\n",
        "t_nv_90up = tn_nv + nv_upper90\n",
        "t_nv_90low = tn_nv + nv_lower90\n",
        "t_nv_80up = tn_nv + nv_upper80\n",
        "t_nv_80low = tn_nv + nv_lower80\n",
        "\n",
        "# for mixed mode\n",
        "mm_upper90 = 3.5\n",
        "mm_lower90 = -3.5\n",
        "mm_upper80 = 5.9\n",
        "mm_lower80 = -5.9\n",
        "\n",
        "# calculating neutral temperature inside mixed mode building according to imac\n",
        "\n",
        "tn_mm = 0.28*x + 17.87 \n",
        "t_mm_90up = t_cmf_mm + mm_upper90\n",
        "t_mm_90low = t_cmf_mm + mm_lower90\n",
        "t_mm_80up = t_cmf_mm + mm_upper80\n",
        "t_mm_80low = t_cmf_mm + mm_lower80"
      ],
      "metadata": {
        "id": "hOsD-_IZVsgg"
      },
      "execution_count": null,
      "outputs": []
    },
    {
      "cell_type": "code",
      "source": [
        "# plotting the results NV\n",
        "\n",
        "plt.plot(t_rmt,tn_nv,label='Neutral Temperature')\n",
        "plt.plot(t_rmt,t_nv_90up,'--',label='90% acceptability')\n",
        "plt.plot(t_rmt,t_nv_90low,'--')\n",
        "plt.plot(t_rmt,t_nv_80low)\n",
        "plt.plot(t_rmt,t_nv_80up,'--',label='80% acceptability')\n",
        "plt.scatter(t_rmt,t_opi)\n",
        "plt.xlabel(\"30-day Outdoor Runing Mean Temperature [C]\")\n",
        "plt.ylabel(\"Indoor operative Temperature [C]\")\n",
        "plt.title (\"IMAC Natural Ventillated building\")\n",
        "plt.legend(loc='best')\n",
        "plt.show()"
      ],
      "metadata": {
        "id": "N4kAksk0_SzH"
      },
      "execution_count": null,
      "outputs": []
    },
    {
      "cell_type": "code",
      "source": [
        "# plotting the results MM\n",
        "\n",
        "plt.plot(t_rmt,tn_mm)\n",
        "plt.plot(t_rmt,t_mm_90up)\n",
        "plt.plot(t_rmt,t_mm_90low)\n",
        "plt.plot(t_rmt,t_mm_90low)\n",
        "plt.plot(t_rmt,t_mm_90up)\n",
        "plt.scatter(t_rmt,t_opi)\n",
        "plt.xlabel(\"30-day Outdoor Runing Mean Temperature [C]\")\n",
        "plt.ylabel(\"Indoor operative Temperature [C]\")\n",
        "plt.title (\"IMAC Natural Ventillated building\")\n",
        "plt.show()"
      ],
      "metadata": {
        "id": "l4t83MYqaghl"
      },
      "execution_count": null,
      "outputs": []
    },
    {
      "cell_type": "code",
      "source": [
        "# checking ASHRAE-55 adaptive comfort status\n",
        "from pythermalcomfort.models import adaptive_ashrae\n",
        "acceptable80_ashrae = 0\n",
        "acceptable90_ashrae = 0\n",
        "hvac_required = 0\n",
        "outside_ashrae_range_hour = []\n",
        "for i in range (0,8760):\n",
        "  results_ashrae55 = adaptive_ashrae(tdb=dbt_in[i], tr=t_mrt[i],t_running_mean=t_rmt[i],v=vel[i],units='SI')\n",
        "  if results_ashrae55['acceptability_90']==True:\n",
        "    acceptable90_ashrae = +1\n",
        "  elif results_ashrae55['acceptability_80']==True:\n",
        "    acceptable80_ashrae = +1\n",
        "  elif results_ashrae55['acceptability_80']==np.nan:\n",
        "    outside_ashrae_range_hour = +1\n",
        "  else:\n",
        "    hvac_required = +1\n",
        "\n"
      ],
      "metadata": {
        "id": "Zu5ky5M6fCLN"
      },
      "execution_count": null,
      "outputs": []
    },
    {
      "cell_type": "code",
      "source": [
        "print(\"Number of annual hours with 80% people comfortable according to ASHRAE-55 Adaptive model = \",acceptable80_ashrae)\n",
        "print(\"Number of annual hours with 90% people comfortable according to ASHRAE-55 Adaptive model = \",acceptable90_ashrae)\n",
        "print(\"Number of annual hours outside ASHRAE-55 Adaptive model range = \", outside_ashrae_range_hour)\n",
        "print(\"Number of annual hours outside 80% comfortable range according to ASHRAE-55 Adaptive model = \", hvac_required)"
      ],
      "metadata": {
        "id": "l5coW7Hjw4uc"
      },
      "execution_count": null,
      "outputs": []
    },
    {
      "cell_type": "code",
      "source": [
        "import numpy as np\n",
        "import matplotlib.pyplot as plt\n",
        "\n",
        "# Define the ASHRAE Standard 55 equation\n",
        "def ashrae_tn(t_out):\n",
        "  #if (t_out[i]<=33) and (t_out[i]>=10):\n",
        "    tn = 0.31 * t_out + 17.8 #enter test check that outdoor temperature is within limits \n",
        "    return tn\n",
        "\n",
        "# Define the 80% acceptability limits equation\n",
        "def ashrae_tn_limits(t_out):\n",
        "  for i in range (0,8760):\n",
        "      tn = ashrae_tn(t_out)\n",
        "      delta_tn = 0.15 * tn\n",
        "      tn_lower = tn - delta_tn\n",
        "      tn_upper = tn + delta_tn\n",
        "      delta_Tn_90 = 0.21 * tn\n",
        "      Tn_upper_90 = tn + delta_Tn_90\n",
        "      Tn_lower_90 = tn - delta_Tn_90\n",
        "  return tn_lower, tn_upper, Tn_upper_90, Tn_lower_90\n",
        "\n",
        "# Generate a range of outdoor air temperatures (in Celsius) for 30 days\n",
        "t_out = np.arange() \n",
        "#hourly generated using energyplus\n",
        "\n",
        "# Calculate the corresponding neutral temperatures and 80% acceptability limits for each outdoor air temperature\n",
        "tn = ashrae_tn(t_out)\n",
        "tn_lower_80, tn_upper_80,Tn_upper_90, Tn_lower_90 = ashrae_tn_limits(t_out)\n",
        "\n",
        "# Plot the results\n",
        "plt.plot(t_out, tn_lower_80, '--')\n",
        "plt.plot(t_out, tn_upper_80, '--')\n",
        "plt.xlabel('30-Day Running Mean Outdoor Air Temperature (°C)')\n",
        "plt.ylabel('Neutral / Operative Temperature (°C)')\n",
        "plt.title('ASHRAE Standard 55')\n",
        "# Plot the neutral temperature and acceptability limits\n",
        "plt.plot(t_out, tn, 'k', linewidth=2, label='Neutral Temperature')\n",
        "plt.fill_between(t_out, Tn_lower_90, tn_lower_80, facecolor='blue', alpha=0.5, label='80% Acceptability Zone')\n",
        "plt.fill_between(t_out, Tn_upper_90, tn_upper_80, facecolor='blue', alpha=0.5)\n",
        "plt.fill_between(t_out, Tn_lower_90, Tn_upper_90, facecolor='violet', alpha=0.9, label='90% Acceptability Zone')\n",
        "\n",
        "# Add legend and labels\n",
        "plt.legend(loc='best')\n",
        "# Set the axis limits\n",
        "plt.xlim(10, 33)\n",
        "plt.ylim(15, 38)\n",
        "\n",
        "# Show the plot\n",
        "plt.show()"
      ],
      "metadata": {
        "colab": {
          "base_uri": "https://localhost:8080/",
          "height": 472
        },
        "id": "tuIFN9D4CGU-",
        "outputId": "14143b74-7a93-46b6-8d6e-e6b8b77772d4"
      },
      "execution_count": null,
      "outputs": [
        {
          "output_type": "display_data",
          "data": {
            "text/plain": [
              "<Figure size 640x480 with 1 Axes>"
            ],
            "image/png": "[encoded data removed]"
          },
          "metadata": {}
        }
      ]
    }
  ]
}